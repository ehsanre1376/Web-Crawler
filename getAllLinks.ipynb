{
 "cells": [
  {
   "cell_type": "code",
   "execution_count": 2,
   "metadata": {},
   "outputs": [
    {
     "name": "stderr",
     "output_type": "stream",
     "text": [
      "<>:9: SyntaxWarning: invalid escape sequence '\\l'\n",
      "<>:9: SyntaxWarning: invalid escape sequence '\\l'\n",
      "C:\\Users\\EHSANRE\\AppData\\Local\\Temp\\ipykernel_11596\\1450321430.py:9: SyntaxWarning: invalid escape sequence '\\l'\n",
      "  \"\"\"\n"
     ]
    },
    {
     "data": {
      "text/plain": [
       "'\\ndriver = webdriver.Chrome(executable_path=r\"D:\\x0caradars\\x0ciles\\\\lesson8\\\\chromedriver.exe\")\\ndriver.get(\"https://www.lynda.com/Design-training-tutorials/40-0.html\")\\nshow_more_button = driver.find_element_by_css_selector(\\n    \"#category-courses > li.show-more-row > button\"\\n)\\nshow_more_button.click()'"
      ]
     },
     "execution_count": 2,
     "metadata": {},
     "output_type": "execute_result"
    }
   ],
   "source": [
    "import requests\n",
    "from bs4 import BeautifulSoup\n",
    "from selenium import webdriver\n",
    "from selenium.webdriver.common.by import By\n",
    "import time\n",
    "import pandas as pd\n",
    "from tqdm import tqdm\n",
    "\n",
    "\"\"\"\n",
    "driver = webdriver.Chrome(executable_path=r\"D:\\faradars\\files\\lesson8\\chromedriver.exe\")\n",
    "driver.get(\"https://www.lynda.com/Design-training-tutorials/40-0.html\")\n",
    "show_more_button = driver.find_element_by_css_selector(\n",
    "    \"#category-courses > li.show-more-row > button\"\n",
    ")\n",
    "show_more_button.click()\"\"\""
   ]
  },
  {
   "cell_type": "code",
   "execution_count": 22,
   "metadata": {},
   "outputs": [],
   "source": [
    "url = r\"https://www.irantalent.com\"\n",
    "site = requests.get(url + \"/companies\")\n",
    "soup = BeautifulSoup(site.text, \"html.parser\")\n",
    "\n",
    "driver = webdriver.Edge()\n",
    "driver.get(url + \"/companies\")\n",
    "NextPagebutton = driver.find_element(\n",
    "    \"xpath\",\n",
    "    \"/html/body/app-root/div/div/div[2]/div/it-company-list/div/div/div[2]/div[4]/it-pagination/div/div[1]/button[2]\"\n",
    ")\n",
    "NextPagebutton.click()"
   ]
  },
  {
   "cell_type": "code",
   "execution_count": 38,
   "metadata": {},
   "outputs": [],
   "source": [
    "NextPagebutton.click()\n",
    "time.sleep(2)\n",
    "soup = BeautifulSoup(driver.page_source, \"html.parser\")"
   ]
  },
  {
   "cell_type": "code",
   "execution_count": 39,
   "metadata": {},
   "outputs": [],
   "source": [
    "TempOverviewLinks = soup.select(\n",
    "        \"body > app-root > div > div > div > div > it-company-list > div > div > div.container.w-100.padding-x-12.mobile-padding-x-0.main-wrapper > div.padding-y-24.mobile-padding-y-12 > div > div > div > a \"\n",
    "    )\n",
    "TempOverviewLinks = [url + link.get(\"href\") for link in TempOverviewLinks]"
   ]
  },
  {
   "cell_type": "code",
   "execution_count": 40,
   "metadata": {},
   "outputs": [
    {
     "data": {
      "text/plain": [
       "['https://www.irantalent.com/company/arona-chemie/d841ed45-b0d9-443d-ab57-3f8cc3983669/overview',\n",
       " 'https://www.irantalent.com/company/persol/f96701f4-8edd-4e92-9f71-8d5ba1e98189/overview',\n",
       " 'https://www.irantalent.com/company/darman-ara-co/9f566afe-9ab4-47c0-a220-609051cb5b21/overview',\n",
       " 'https://www.irantalent.com/company/tamadon-investment-bank/62231515-103a-4911-b7db-391d7096ea3d/overview',\n",
       " 'https://www.irantalent.com/company/baspar-plastics-pars/dd269419-b34d-402f-a1c7-7aca2dbc845d/overview',\n",
       " 'https://www.irantalent.com/company/afranet/e28b05ad-cd3c-46b6-a4f2-235b4560c447/overview',\n",
       " 'https://www.irantalent.com/company/sanaye-plastic-khouzestan/9609a9f0-f186-47e3-88a7-1e54437aa6fa/overview',\n",
       " 'https://www.irantalent.com/company/ashbal-chemi/d49b1fb3-f895-44c8-b402-e439ee33215b/overview',\n",
       " 'https://www.irantalent.com/company/ghazal-plastic/77ce2fec-8aa7-4261-9820-ebf9113cd312/overview',\n",
       " 'https://www.irantalent.com/company/artiman-medical-innovation/244802b5-8edf-403a-9eb0-47eee69467a2/overview',\n",
       " 'https://www.irantalent.com/company/eligasht/42d356dc-3447-436d-9ed9-163418808622/overview',\n",
       " 'https://www.irantalent.com/company/sheedsun/8e7dbeba-bdf0-49b8-8286-bf011aa4ccb6/overview',\n",
       " 'https://www.irantalent.com/company/takdaneh/bbfdec21-68c4-4ead-8ad2-c17a55a14bde/overview',\n",
       " 'https://www.irantalent.com/company/vina-group/d5461911-a419-483f-81e6-7ad2049a6aa0/overview',\n",
       " 'https://www.irantalent.com/company/camelion/87029141-e3af-4013-9df5-20d229e84bb3/overview',\n",
       " 'https://www.irantalent.com/company/fara-gostar-bistoon/498f6676-8dc0-4dd7-b42c-b9efc90c639a/overview',\n",
       " 'https://www.irantalent.com/company/pars-mabani/3fa88793-7094-4864-8462-334c6019bcfd/overview',\n",
       " 'https://www.irantalent.com/company/sinap/e5c3dd9c-4079-4dd2-97c5-72982a0e8f99/overview',\n",
       " 'https://www.irantalent.com/company/cabro/a0548094-7fc8-4dbf-9338-05c8f221ec5a/overview',\n",
       " 'https://www.irantalent.com/company/yasplast-shomal/d8197fe5-862d-43fd-889a-4bbfcc6f80db/overview',\n",
       " 'https://www.irantalent.com/company/hansa/70bd8945-1edb-4805-b8da-62f0d3ab3d15/overview',\n",
       " 'https://www.irantalent.com/company/agt/288fad2c-eee0-43df-9e0f-e2fce7d5416b/overview',\n",
       " 'https://www.irantalent.com/company/caspian-tejarat-pouria/ded681eb-f1e4-4d85-8468-dd846dacf501/overview',\n",
       " 'https://www.irantalent.com/company/markaz-noavarihaye-amouzeshie-meraat/465d75fc-abcb-45df-b57a-f966346552f6/overview',\n",
       " 'https://www.irantalent.com/company/pars-steel/229fa9ab-70ae-4654-8942-e378b784f0fc/overview',\n",
       " 'https://www.irantalent.com/company/fanavari-pand-caspian/2d2677d1-582b-43e5-b6e7-60c4a4ca476d/overview',\n",
       " 'https://www.irantalent.com/company/exon-agro-group-company/2a784640-57f5-4dd3-b865-87b203215cc7/overview',\n",
       " 'https://www.irantalent.com/company/zolal-iran/ffb1ffc6-c5d6-4884-b54d-2181c1fd0791/overview',\n",
       " 'https://www.irantalent.com/company/yasrebi-group-tejarat-nokhbe-moheb/c0d6c188-994f-4a25-a993-21b5382b183e/overview',\n",
       " 'https://www.irantalent.com/company/pars-fanavaran-radin/79d92396-ef45-464f-8b41-a48e8796fda9/overview']"
      ]
     },
     "execution_count": 40,
     "metadata": {},
     "output_type": "execute_result"
    }
   ],
   "source": [
    "TempOverviewLinks"
   ]
  },
  {
   "cell_type": "code",
   "execution_count": 5,
   "metadata": {},
   "outputs": [
    {
     "ename": "TypeError",
     "evalue": "Object of type Response is not JSON serializable",
     "output_type": "error",
     "traceback": [
      "\u001b[1;31m---------------------------------------------------------------------------\u001b[0m",
      "\u001b[1;31mTypeError\u001b[0m                                 Traceback (most recent call last)",
      "Cell \u001b[1;32mIn[5], line 9\u001b[0m\n\u001b[0;32m      6\u001b[0m     n \u001b[38;5;241m=\u001b[39m \u001b[38;5;28mint\u001b[39m(my_file\u001b[38;5;241m.\u001b[39mread())\n\u001b[0;32m      8\u001b[0m driver \u001b[38;5;241m=\u001b[39m webdriver\u001b[38;5;241m.\u001b[39mEdge()\n\u001b[1;32m----> 9\u001b[0m \u001b[43mdriver\u001b[49m\u001b[38;5;241;43m.\u001b[39;49m\u001b[43mget\u001b[49m\u001b[43m(\u001b[49m\u001b[43msite\u001b[49m\u001b[43m)\u001b[49m\n\u001b[0;32m     10\u001b[0m NextPagebutton \u001b[38;5;241m=\u001b[39m driver\u001b[38;5;241m.\u001b[39mfind_element_by_css_selector(\n\u001b[0;32m     11\u001b[0m     \u001b[38;5;124m\"\u001b[39m\u001b[38;5;124m#companies-brands-list > div > div.d-flex.align-items-center.pagination-wrapper > button.page.action-next-page.flipArrowKeys\u001b[39m\u001b[38;5;124m\"\u001b[39m\n\u001b[0;32m     12\u001b[0m )\n\u001b[0;32m     13\u001b[0m \u001b[38;5;66;03m#NextPagebutton.click()\u001b[39;00m\n",
      "File \u001b[1;32mc:\\Users\\EHSANRE\\OneDrive\\Web Crawler\\.venv\\Lib\\site-packages\\selenium\\webdriver\\remote\\webdriver.py:356\u001b[0m, in \u001b[0;36mWebDriver.get\u001b[1;34m(self, url)\u001b[0m\n\u001b[0;32m    354\u001b[0m \u001b[38;5;28;01mdef\u001b[39;00m \u001b[38;5;21mget\u001b[39m(\u001b[38;5;28mself\u001b[39m, url: \u001b[38;5;28mstr\u001b[39m) \u001b[38;5;241m-\u001b[39m\u001b[38;5;241m>\u001b[39m \u001b[38;5;28;01mNone\u001b[39;00m:\n\u001b[0;32m    355\u001b[0m \u001b[38;5;250m    \u001b[39m\u001b[38;5;124;03m\"\"\"Loads a web page in the current browser session.\"\"\"\u001b[39;00m\n\u001b[1;32m--> 356\u001b[0m     \u001b[38;5;28;43mself\u001b[39;49m\u001b[38;5;241;43m.\u001b[39;49m\u001b[43mexecute\u001b[49m\u001b[43m(\u001b[49m\u001b[43mCommand\u001b[49m\u001b[38;5;241;43m.\u001b[39;49m\u001b[43mGET\u001b[49m\u001b[43m,\u001b[49m\u001b[43m \u001b[49m\u001b[43m{\u001b[49m\u001b[38;5;124;43m\"\u001b[39;49m\u001b[38;5;124;43murl\u001b[39;49m\u001b[38;5;124;43m\"\u001b[39;49m\u001b[43m:\u001b[49m\u001b[43m \u001b[49m\u001b[43murl\u001b[49m\u001b[43m}\u001b[49m\u001b[43m)\u001b[49m\n",
      "File \u001b[1;32mc:\\Users\\EHSANRE\\OneDrive\\Web Crawler\\.venv\\Lib\\site-packages\\selenium\\webdriver\\remote\\webdriver.py:345\u001b[0m, in \u001b[0;36mWebDriver.execute\u001b[1;34m(self, driver_command, params)\u001b[0m\n\u001b[0;32m    342\u001b[0m     \u001b[38;5;28;01melif\u001b[39;00m \u001b[38;5;124m\"\u001b[39m\u001b[38;5;124msessionId\u001b[39m\u001b[38;5;124m\"\u001b[39m \u001b[38;5;129;01mnot\u001b[39;00m \u001b[38;5;129;01min\u001b[39;00m params:\n\u001b[0;32m    343\u001b[0m         params[\u001b[38;5;124m\"\u001b[39m\u001b[38;5;124msessionId\u001b[39m\u001b[38;5;124m\"\u001b[39m] \u001b[38;5;241m=\u001b[39m \u001b[38;5;28mself\u001b[39m\u001b[38;5;241m.\u001b[39msession_id\n\u001b[1;32m--> 345\u001b[0m response \u001b[38;5;241m=\u001b[39m \u001b[38;5;28;43mself\u001b[39;49m\u001b[38;5;241;43m.\u001b[39;49m\u001b[43mcommand_executor\u001b[49m\u001b[38;5;241;43m.\u001b[39;49m\u001b[43mexecute\u001b[49m\u001b[43m(\u001b[49m\u001b[43mdriver_command\u001b[49m\u001b[43m,\u001b[49m\u001b[43m \u001b[49m\u001b[43mparams\u001b[49m\u001b[43m)\u001b[49m\n\u001b[0;32m    346\u001b[0m \u001b[38;5;28;01mif\u001b[39;00m response:\n\u001b[0;32m    347\u001b[0m     \u001b[38;5;28mself\u001b[39m\u001b[38;5;241m.\u001b[39merror_handler\u001b[38;5;241m.\u001b[39mcheck_response(response)\n",
      "File \u001b[1;32mc:\\Users\\EHSANRE\\OneDrive\\Web Crawler\\.venv\\Lib\\site-packages\\selenium\\webdriver\\remote\\remote_connection.py:298\u001b[0m, in \u001b[0;36mRemoteConnection.execute\u001b[1;34m(self, command, params)\u001b[0m\n\u001b[0;32m    296\u001b[0m     \u001b[38;5;28;01mfor\u001b[39;00m word \u001b[38;5;129;01min\u001b[39;00m substitute_params:\n\u001b[0;32m    297\u001b[0m         \u001b[38;5;28;01mdel\u001b[39;00m params[word]\n\u001b[1;32m--> 298\u001b[0m data \u001b[38;5;241m=\u001b[39m \u001b[43mutils\u001b[49m\u001b[38;5;241;43m.\u001b[39;49m\u001b[43mdump_json\u001b[49m\u001b[43m(\u001b[49m\u001b[43mparams\u001b[49m\u001b[43m)\u001b[49m\n\u001b[0;32m    299\u001b[0m url \u001b[38;5;241m=\u001b[39m \u001b[38;5;124mf\u001b[39m\u001b[38;5;124m\"\u001b[39m\u001b[38;5;132;01m{\u001b[39;00m\u001b[38;5;28mself\u001b[39m\u001b[38;5;241m.\u001b[39m_url\u001b[38;5;132;01m}\u001b[39;00m\u001b[38;5;132;01m{\u001b[39;00mpath\u001b[38;5;132;01m}\u001b[39;00m\u001b[38;5;124m\"\u001b[39m\n\u001b[0;32m    300\u001b[0m trimmed \u001b[38;5;241m=\u001b[39m \u001b[38;5;28mself\u001b[39m\u001b[38;5;241m.\u001b[39m_trim_large_entries(params)\n",
      "File \u001b[1;32mc:\\Users\\EHSANRE\\OneDrive\\Web Crawler\\.venv\\Lib\\site-packages\\selenium\\webdriver\\remote\\utils.py:24\u001b[0m, in \u001b[0;36mdump_json\u001b[1;34m(json_struct)\u001b[0m\n\u001b[0;32m     23\u001b[0m \u001b[38;5;28;01mdef\u001b[39;00m \u001b[38;5;21mdump_json\u001b[39m(json_struct: Any) \u001b[38;5;241m-\u001b[39m\u001b[38;5;241m>\u001b[39m \u001b[38;5;28mstr\u001b[39m:\n\u001b[1;32m---> 24\u001b[0m     \u001b[38;5;28;01mreturn\u001b[39;00m \u001b[43mjson\u001b[49m\u001b[38;5;241;43m.\u001b[39;49m\u001b[43mdumps\u001b[49m\u001b[43m(\u001b[49m\u001b[43mjson_struct\u001b[49m\u001b[43m)\u001b[49m\n",
      "File \u001b[1;32mC:\\Program Files\\Python312\\Lib\\json\\__init__.py:231\u001b[0m, in \u001b[0;36mdumps\u001b[1;34m(obj, skipkeys, ensure_ascii, check_circular, allow_nan, cls, indent, separators, default, sort_keys, **kw)\u001b[0m\n\u001b[0;32m    226\u001b[0m \u001b[38;5;66;03m# cached encoder\u001b[39;00m\n\u001b[0;32m    227\u001b[0m \u001b[38;5;28;01mif\u001b[39;00m (\u001b[38;5;129;01mnot\u001b[39;00m skipkeys \u001b[38;5;129;01mand\u001b[39;00m ensure_ascii \u001b[38;5;129;01mand\u001b[39;00m\n\u001b[0;32m    228\u001b[0m     check_circular \u001b[38;5;129;01mand\u001b[39;00m allow_nan \u001b[38;5;129;01mand\u001b[39;00m\n\u001b[0;32m    229\u001b[0m     \u001b[38;5;28mcls\u001b[39m \u001b[38;5;129;01mis\u001b[39;00m \u001b[38;5;28;01mNone\u001b[39;00m \u001b[38;5;129;01mand\u001b[39;00m indent \u001b[38;5;129;01mis\u001b[39;00m \u001b[38;5;28;01mNone\u001b[39;00m \u001b[38;5;129;01mand\u001b[39;00m separators \u001b[38;5;129;01mis\u001b[39;00m \u001b[38;5;28;01mNone\u001b[39;00m \u001b[38;5;129;01mand\u001b[39;00m\n\u001b[0;32m    230\u001b[0m     default \u001b[38;5;129;01mis\u001b[39;00m \u001b[38;5;28;01mNone\u001b[39;00m \u001b[38;5;129;01mand\u001b[39;00m \u001b[38;5;129;01mnot\u001b[39;00m sort_keys \u001b[38;5;129;01mand\u001b[39;00m \u001b[38;5;129;01mnot\u001b[39;00m kw):\n\u001b[1;32m--> 231\u001b[0m     \u001b[38;5;28;01mreturn\u001b[39;00m \u001b[43m_default_encoder\u001b[49m\u001b[38;5;241;43m.\u001b[39;49m\u001b[43mencode\u001b[49m\u001b[43m(\u001b[49m\u001b[43mobj\u001b[49m\u001b[43m)\u001b[49m\n\u001b[0;32m    232\u001b[0m \u001b[38;5;28;01mif\u001b[39;00m \u001b[38;5;28mcls\u001b[39m \u001b[38;5;129;01mis\u001b[39;00m \u001b[38;5;28;01mNone\u001b[39;00m:\n\u001b[0;32m    233\u001b[0m     \u001b[38;5;28mcls\u001b[39m \u001b[38;5;241m=\u001b[39m JSONEncoder\n",
      "File \u001b[1;32mC:\\Program Files\\Python312\\Lib\\json\\encoder.py:200\u001b[0m, in \u001b[0;36mJSONEncoder.encode\u001b[1;34m(self, o)\u001b[0m\n\u001b[0;32m    196\u001b[0m         \u001b[38;5;28;01mreturn\u001b[39;00m encode_basestring(o)\n\u001b[0;32m    197\u001b[0m \u001b[38;5;66;03m# This doesn't pass the iterator directly to ''.join() because the\u001b[39;00m\n\u001b[0;32m    198\u001b[0m \u001b[38;5;66;03m# exceptions aren't as detailed.  The list call should be roughly\u001b[39;00m\n\u001b[0;32m    199\u001b[0m \u001b[38;5;66;03m# equivalent to the PySequence_Fast that ''.join() would do.\u001b[39;00m\n\u001b[1;32m--> 200\u001b[0m chunks \u001b[38;5;241m=\u001b[39m \u001b[38;5;28;43mself\u001b[39;49m\u001b[38;5;241;43m.\u001b[39;49m\u001b[43miterencode\u001b[49m\u001b[43m(\u001b[49m\u001b[43mo\u001b[49m\u001b[43m,\u001b[49m\u001b[43m \u001b[49m\u001b[43m_one_shot\u001b[49m\u001b[38;5;241;43m=\u001b[39;49m\u001b[38;5;28;43;01mTrue\u001b[39;49;00m\u001b[43m)\u001b[49m\n\u001b[0;32m    201\u001b[0m \u001b[38;5;28;01mif\u001b[39;00m \u001b[38;5;129;01mnot\u001b[39;00m \u001b[38;5;28misinstance\u001b[39m(chunks, (\u001b[38;5;28mlist\u001b[39m, \u001b[38;5;28mtuple\u001b[39m)):\n\u001b[0;32m    202\u001b[0m     chunks \u001b[38;5;241m=\u001b[39m \u001b[38;5;28mlist\u001b[39m(chunks)\n",
      "File \u001b[1;32mC:\\Program Files\\Python312\\Lib\\json\\encoder.py:258\u001b[0m, in \u001b[0;36mJSONEncoder.iterencode\u001b[1;34m(self, o, _one_shot)\u001b[0m\n\u001b[0;32m    253\u001b[0m \u001b[38;5;28;01melse\u001b[39;00m:\n\u001b[0;32m    254\u001b[0m     _iterencode \u001b[38;5;241m=\u001b[39m _make_iterencode(\n\u001b[0;32m    255\u001b[0m         markers, \u001b[38;5;28mself\u001b[39m\u001b[38;5;241m.\u001b[39mdefault, _encoder, \u001b[38;5;28mself\u001b[39m\u001b[38;5;241m.\u001b[39mindent, floatstr,\n\u001b[0;32m    256\u001b[0m         \u001b[38;5;28mself\u001b[39m\u001b[38;5;241m.\u001b[39mkey_separator, \u001b[38;5;28mself\u001b[39m\u001b[38;5;241m.\u001b[39mitem_separator, \u001b[38;5;28mself\u001b[39m\u001b[38;5;241m.\u001b[39msort_keys,\n\u001b[0;32m    257\u001b[0m         \u001b[38;5;28mself\u001b[39m\u001b[38;5;241m.\u001b[39mskipkeys, _one_shot)\n\u001b[1;32m--> 258\u001b[0m \u001b[38;5;28;01mreturn\u001b[39;00m \u001b[43m_iterencode\u001b[49m\u001b[43m(\u001b[49m\u001b[43mo\u001b[49m\u001b[43m,\u001b[49m\u001b[43m \u001b[49m\u001b[38;5;241;43m0\u001b[39;49m\u001b[43m)\u001b[49m\n",
      "File \u001b[1;32mC:\\Program Files\\Python312\\Lib\\json\\encoder.py:180\u001b[0m, in \u001b[0;36mJSONEncoder.default\u001b[1;34m(self, o)\u001b[0m\n\u001b[0;32m    161\u001b[0m \u001b[38;5;28;01mdef\u001b[39;00m \u001b[38;5;21mdefault\u001b[39m(\u001b[38;5;28mself\u001b[39m, o):\n\u001b[0;32m    162\u001b[0m \u001b[38;5;250m    \u001b[39m\u001b[38;5;124;03m\"\"\"Implement this method in a subclass such that it returns\u001b[39;00m\n\u001b[0;32m    163\u001b[0m \u001b[38;5;124;03m    a serializable object for ``o``, or calls the base implementation\u001b[39;00m\n\u001b[0;32m    164\u001b[0m \u001b[38;5;124;03m    (to raise a ``TypeError``).\u001b[39;00m\n\u001b[1;32m   (...)\u001b[0m\n\u001b[0;32m    178\u001b[0m \n\u001b[0;32m    179\u001b[0m \u001b[38;5;124;03m    \"\"\"\u001b[39;00m\n\u001b[1;32m--> 180\u001b[0m     \u001b[38;5;28;01mraise\u001b[39;00m \u001b[38;5;167;01mTypeError\u001b[39;00m(\u001b[38;5;124mf\u001b[39m\u001b[38;5;124m'\u001b[39m\u001b[38;5;124mObject of type \u001b[39m\u001b[38;5;132;01m{\u001b[39;00mo\u001b[38;5;241m.\u001b[39m\u001b[38;5;18m__class__\u001b[39m\u001b[38;5;241m.\u001b[39m\u001b[38;5;18m__name__\u001b[39m\u001b[38;5;132;01m}\u001b[39;00m\u001b[38;5;124m \u001b[39m\u001b[38;5;124m'\u001b[39m\n\u001b[0;32m    181\u001b[0m                     \u001b[38;5;124mf\u001b[39m\u001b[38;5;124m'\u001b[39m\u001b[38;5;124mis not JSON serializable\u001b[39m\u001b[38;5;124m'\u001b[39m)\n",
      "\u001b[1;31mTypeError\u001b[0m: Object of type Response is not JSON serializable"
     ]
    }
   ],
   "source": [
    "overviewLinks = TempOverviewLinks = []\n",
    "overviewLinks = pd.read_excel(\n",
    "    r\"C:\\Users\\EHSANRE\\OneDrive\\Web Crawler\\overviewLinks.xlsx\", index=False\n",
    ")\n",
    "url = r\"https://www.irantalent.com\"\n",
    "site = requests.get(url + \"/companies\")\n",
    "soup = BeautifulSoup(site.text, \"html.parser\")\n",
    "with open(r\"C:\\Users\\EHSANRE\\OneDrive\\Web Crawler\\Page Number.txt\") as my_file:\n",
    "    n = int(my_file.read())\n",
    "\n",
    "driver = webdriver.Edge()\n",
    "driver.get(site)\n",
    "NextPagebutton = driver.find_element_by(\n",
    "    \"#companies-brands-list > div > div.d-flex.align-items-center.pagination-wrapper > button.page.action-next-page.flipArrowKeys\"\n",
    ")\n",
    "# NextPagebutton.click()"
   ]
  },
  {
   "cell_type": "code",
   "execution_count": null,
   "metadata": {},
   "outputs": [],
   "source": []
  },
  {
   "cell_type": "code",
   "execution_count": null,
   "metadata": {},
   "outputs": [],
   "source": [
    "for i in tqdm(range(1,683)):\n",
    "    if i <= n:\n",
    "        continue\n",
    "\n",
    "    # Links----------------------------------------\n",
    "    TempOverviewLinks = soup.select(\n",
    "        \"body > app-root > div > div > div > div > it-company-list > div > div > div.container.w-100.padding-x-12.mobile-padding-x-0.main-wrapper > div.padding-y-24.mobile-padding-y-12 > div > div > div > a \"\n",
    "    )\n",
    "    TempOverviewLinks = [url + link.get(\"href\") for link in TempOverviewLinks]\n",
    "    overviewLinks += TempOverviewLinks\n",
    "    overviewLinks.to_excel(\n",
    "        r\"C:\\Users\\EHSANRE\\OneDrive\\Web Crawler\\overviewLinks.xlsx\", index=False\n",
    "    )"
   ]
  }
 ],
 "metadata": {
  "kernelspec": {
   "display_name": ".venv",
   "language": "python",
   "name": "python3"
  },
  "language_info": {
   "codemirror_mode": {
    "name": "ipython",
    "version": 3
   },
   "file_extension": ".py",
   "mimetype": "text/x-python",
   "name": "python",
   "nbconvert_exporter": "python",
   "pygments_lexer": "ipython3",
   "version": "3.12.2"
  }
 },
 "nbformat": 4,
 "nbformat_minor": 2
}

{
 "cells": [
  {
   "cell_type": "code",
   "execution_count": 21,
   "metadata": {},
   "outputs": [],
   "source": [
    "\"\"\"# Install a pip package in the current Jupyter kernel\n",
    "import sys\n",
    "!{sys.executable} -m pip install lxml\"\"\"\n",
    "\n",
    "import requests\n",
    "\n",
    "from bs4 import BeautifulSoup\n",
    "\n",
    "from selenium import webdriver\n",
    "\n",
    "from selenium.webdriver.common.by import By\n",
    "import time\n",
    "import pandas as pd\n",
    "\n",
    "from tqdm import tqdm\n",
    "from datetime import datetime"
   ]
  },
  {
   "cell_type": "code",
   "execution_count": 22,
   "metadata": {},
   "outputs": [],
   "source": [
    "url = r\"https://www.irantalent.com/fa/company/sitemap.xml\"\n",
    "site = requests.get(url )\n",
    "soup = BeautifulSoup(site.text, \"xml\")\n",
    "a = datetime.strptime(\"2000-01-01\", \"%Y-%m-%d\")"
   ]
  },
  {
   "cell_type": "code",
   "execution_count": 23,
   "metadata": {},
   "outputs": [],
   "source": [
    "\n",
    "urls = [loc.text.replace(\"job-positions\", \"overview\") for loc in soup.find_all(\"loc\")]\n",
    "date = [\n",
    "    datetime.strptime(lastmod.text, \"%Y-%m-%d\") if lastmod.text !='0000-00-00' else a\n",
    "    for lastmod in soup.find_all(\"lastmod\")\n",
    "        # comment:    for lastmod in soup.find_all(\"lastmod\")\n",
    "]\n"
   ]
  },
  {
   "cell_type": "code",
   "execution_count": 28,
   "metadata": {},
   "outputs": [],
   "source": [
    "data = {\"URLs\": urls, \"Date\": date}\n",
    "# Create a DataFrame from your data\n",
    "df = pd.DataFrame(data)\n",
    "df.to_excel(\"SiteMaps.xlsx\", index=0)"
   ]
  }
 ],
 "metadata": {
  "kernelspec": {
   "display_name": ".venv",
   "language": "python",
   "name": "python3"
  },
  "language_info": {
   "codemirror_mode": {
    "name": "ipython",
    "version": 3
   },
   "file_extension": ".py",
   "mimetype": "text/x-python",
   "name": "python",
   "nbconvert_exporter": "python",
   "pygments_lexer": "ipython3",
   "version": "3.12.2"
  }
 },
 "nbformat": 4,
 "nbformat_minor": 2
}
